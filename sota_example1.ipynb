{
 "cells": [
  {
   "cell_type": "markdown",
   "metadata": {
    "colab_type": "text",
    "id": "6SEaUopfhuqq"
   },
   "source": [
    "# Imports"
   ]
  },
  {
   "cell_type": "code",
   "execution_count": null,
   "metadata": {
    "colab": {},
    "colab_type": "code",
    "id": "BF1Clk-4d6vI"
   },
   "outputs": [],
   "source": [
    "import time\n",
    "import os\n",
    "import copy\n",
    "\n",
    "import numpy as np\n",
    "import tensorflow as tf\n",
    "from tensorflow.keras import layers\n",
    "from tensorflow.keras.preprocessing import image_dataset_from_directory\n",
    "from sklearn.metrics import accuracy_score\n",
    "\n",
    "%matplotlib inline  \n",
    "import matplotlib.pyplot as plt"
   ]
  },
  {
   "cell_type": "markdown",
   "metadata": {
    "colab_type": "text",
    "id": "YUfBCBlCiCbp"
   },
   "source": [
    "# Gather data"
   ]
  },
  {
   "cell_type": "code",
   "execution_count": null,
   "metadata": {
    "colab": {
     "base_uri": "https://localhost:8080/",
     "height": 208
    },
    "colab_type": "code",
    "id": "QASUd96KeA_2",
    "outputId": "c6444d0b-1be6-4bbc-8c79-5e730e701999"
   },
   "outputs": [],
   "source": [
    "# Download image data of bees and ants.\n",
    "! wget https://download.pytorch.org/tutorial/hymenoptera_data.zip"
   ]
  },
  {
   "cell_type": "code",
   "execution_count": null,
   "metadata": {
    "colab": {
     "base_uri": "https://localhost:8080/",
     "height": 1000
    },
    "colab_type": "code",
    "id": "yn4vk9jCPxFr",
    "outputId": "19add60f-3423-4206-b032-00674fd13b66"
   },
   "outputs": [],
   "source": [
    "# unzip the data.\n",
    "! unzip hymenoptera_data.zip"
   ]
  },
  {
   "cell_type": "markdown",
   "metadata": {
    "colab_type": "text",
    "id": "CFiPJ63EiGMr"
   },
   "source": [
    "# Pre-process the data"
   ]
  },
  {
   "cell_type": "code",
   "execution_count": null,
   "metadata": {
    "colab": {
     "base_uri": "https://localhost:8080/",
     "height": 52
    },
    "colab_type": "code",
    "id": "5zPcQz8je5IR",
    "outputId": "3b009063-eb4d-4b2c-9661-ebbfecc28cad"
   },
   "outputs": [],
   "source": [
    "PATH = 'hymenoptera_data'\n",
    "\n",
    "train_dir = os.path.join(PATH, 'train')\n",
    "validation_dir = os.path.join(PATH, 'val')\n",
    "\n",
    "BATCH_SIZE = 32\n",
    "IMG_SIZE = (160, 160)\n",
    "\n",
    "train_dataset = image_dataset_from_directory(train_dir,\n",
    "                                             shuffle=True,\n",
    "                                             batch_size=BATCH_SIZE,\n",
    "                                             image_size=IMG_SIZE)\n",
    "\n",
    "validation_dataset = image_dataset_from_directory(validation_dir,\n",
    "                                                  shuffle=True,\n",
    "                                                  batch_size=BATCH_SIZE,\n",
    "                                                  image_size=IMG_SIZE)"
   ]
  },
  {
   "cell_type": "code",
   "execution_count": null,
   "metadata": {
    "colab": {
     "base_uri": "https://localhost:8080/",
     "height": 591
    },
    "colab_type": "code",
    "id": "YTMzeV9cexMY",
    "outputId": "35245fd1-51ce-4d7e-c3e0-19514c360bb5"
   },
   "outputs": [],
   "source": [
    "# Take a look at some of our images and the corresponding labels.\n",
    "class_names = train_dataset.class_names\n",
    "plt.figure(figsize=(10, 10))\n",
    "for images, labels in train_dataset.take(1):\n",
    "  for i in range(9):\n",
    "    ax = plt.subplot(3, 3, i + 1)\n",
    "    plt.imshow(images[i].numpy().astype(\"uint8\"))\n",
    "    plt.title(class_names[labels[i]])\n",
    "    plt.axis(\"off\")"
   ]
  },
  {
   "cell_type": "code",
   "execution_count": null,
   "metadata": {
    "colab": {
     "base_uri": "https://localhost:8080/",
     "height": 52
    },
    "colab_type": "code",
    "id": "skQWSSwmgnuL",
    "outputId": "3afa92af-c430-4fe1-f426-6e2fe1a61310"
   },
   "outputs": [],
   "source": [
    "# Create a test set in addition to the validation set\n",
    "val_batches = tf.data.experimental.cardinality(validation_dataset)\n",
    "test_dataset = validation_dataset.take(val_batches // 5)\n",
    "validation_dataset = validation_dataset.skip(val_batches // 5)\n",
    "print('Number of validation batches: %d' % tf.data.experimental.cardinality(validation_dataset))\n",
    "print('Number of test batches: %d' % tf.data.experimental.cardinality(test_dataset))"
   ]
  },
  {
   "cell_type": "markdown",
   "metadata": {
    "colab_type": "text",
    "id": "o0qZaibZjQ15"
   },
   "source": [
    "# Load the pre-trained model and create a classification head"
   ]
  },
  {
   "cell_type": "code",
   "execution_count": null,
   "metadata": {
    "colab": {
     "base_uri": "https://localhost:8080/",
     "height": 72
    },
    "colab_type": "code",
    "id": "2LCGgewRh0TZ",
    "outputId": "7c83c595-664f-4e66-b1be-1cdf38ea9519"
   },
   "outputs": [],
   "source": [
    "# Load the pre-trained MobileNet V2 without the classification head\n",
    "IMG_SHAPE = IMG_SIZE + (3,)\n",
    "base_model = tf.keras.applications.MobileNetV2(input_shape=IMG_SHAPE,\n",
    "                                               include_top=False,\n",
    "                                               weights='imagenet')"
   ]
  },
  {
   "cell_type": "code",
   "execution_count": null,
   "metadata": {
    "colab": {},
    "colab_type": "code",
    "id": "FFHMlgqmfADh"
   },
   "outputs": [],
   "source": [
    "# \"freeze\" the convolutional, feature extraction parameters.\n",
    "base_model.trainable = False"
   ]
  },
  {
   "cell_type": "code",
   "execution_count": null,
   "metadata": {
    "colab": {},
    "colab_type": "code",
    "id": "TfCyOJBc7lS-"
   },
   "outputs": [],
   "source": [
    "# Create a data augmentation layer because of our small data set size.\n",
    "data_augmentation = tf.keras.Sequential([\n",
    "  tf.keras.layers.experimental.preprocessing.RandomFlip('horizontal'),\n",
    "  tf.keras.layers.experimental.preprocessing.RandomRotation(0.2),\n",
    "])\n",
    "\n",
    "# Create a rescaling layer because the MobileNet model expects pixel vaues in a  \n",
    "# range of [-1,1], but our values are in teh rannge [0,255].\n",
    "rescale = tf.keras.layers.experimental.preprocessing.Rescaling(1./127.5, offset= -1)\n",
    "\n",
    "# Create a classification head for our model\n",
    "global_average_layer = tf.keras.layers.GlobalAveragePooling2D()\n",
    "prediction_layer = tf.keras.layers.Dense(1)"
   ]
  },
  {
   "cell_type": "code",
   "execution_count": null,
   "metadata": {
    "colab": {},
    "colab_type": "code",
    "id": "2SG8a3mY8aWl"
   },
   "outputs": [],
   "source": [
    "# Put everything together using the keras functional API\n",
    "inputs = tf.keras.Input(shape=(160, 160, 3))\n",
    "x = data_augmentation(inputs)\n",
    "x = rescale(x)\n",
    "x = base_model(x, training=False)\n",
    "x = global_average_layer(x)\n",
    "x = tf.keras.layers.Dropout(0.2)(x)\n",
    "outputs = prediction_layer(x)\n",
    "model = tf.keras.Model(inputs, outputs)"
   ]
  },
  {
   "cell_type": "code",
   "execution_count": null,
   "metadata": {
    "colab": {},
    "colab_type": "code",
    "id": "oGvRU4mi8rlI"
   },
   "outputs": [],
   "source": [
    "# Prep the model for training and set training parameters.\n",
    "learning_rate = 0.0001\n",
    "model.compile(optimizer=tf.keras.optimizers.Adam(lr=learning_rate),\n",
    "              loss=tf.keras.losses.BinaryCrossentropy(from_logits=True),\n",
    "              metrics=['accuracy'])"
   ]
  },
  {
   "cell_type": "markdown",
   "metadata": {
    "colab_type": "text",
    "id": "SJ0fqbBdKUwJ"
   },
   "source": [
    "# Train the model (using transfer learning)"
   ]
  },
  {
   "cell_type": "code",
   "execution_count": null,
   "metadata": {
    "colab": {
     "base_uri": "https://localhost:8080/",
     "height": 1000
    },
    "colab_type": "code",
    "id": "nuS4TNpyrjk4",
    "outputId": "8145ea1c-1498-4b69-f103-fdb1639da413"
   },
   "outputs": [],
   "source": [
    "epochs = 50\n",
    "history = model.fit(train_dataset,\n",
    "                    epochs=epochs,\n",
    "                    validation_data=validation_dataset)"
   ]
  },
  {
   "cell_type": "code",
   "execution_count": null,
   "metadata": {
    "colab": {
     "base_uri": "https://localhost:8080/",
     "height": 312
    },
    "colab_type": "code",
    "id": "vsIZbHxagxJy",
    "outputId": "680fbfb2-a8b2-4687-8872-d2b12c04f9dd"
   },
   "outputs": [],
   "source": [
    "# Plot the training loss for each epoch to see how the model converged.\n",
    "history_dict = history.history\n",
    "plt.plot(list(range(0,epochs)), history_dict['loss'], 'bo--', label='Training loss')\n",
    "plt.title('Training loss')\n",
    "plt.xlabel('Epochs')\n",
    "plt.ylabel('Loss')\n",
    "plt.legend()"
   ]
  },
  {
   "cell_type": "markdown",
   "metadata": {
    "colab_type": "text",
    "id": "0L3p4SUwKYLt"
   },
   "source": [
    "# Evaluate the transfer learned model"
   ]
  },
  {
   "cell_type": "code",
   "execution_count": null,
   "metadata": {
    "colab": {
     "base_uri": "https://localhost:8080/",
     "height": 69
    },
    "colab_type": "code",
    "id": "k1Hhm99UGh1F",
    "outputId": "6f1abbf2-eddc-4051-8ba5-61d6f87836df"
   },
   "outputs": [],
   "source": [
    "# Evaluate the model on the test set. \n",
    "test_loss, test_acc = model.evaluate(test_dataset, \n",
    "          verbose=2)\n",
    "\n",
    "print('\\nTest accuracy:', test_acc)"
   ]
  },
  {
   "cell_type": "markdown",
   "metadata": {
    "colab_type": "text",
    "id": "l6cJ3AWw_JTR"
   },
   "source": [
    "# Update the training to \"fine-tune\" the base model"
   ]
  },
  {
   "cell_type": "code",
   "execution_count": null,
   "metadata": {
    "colab": {},
    "colab_type": "code",
    "id": "fn9z-VA5bBuP"
   },
   "outputs": [],
   "source": [
    "# Reset the base model to be \"trainable\"\n",
    "base_model.trainable = True"
   ]
  },
  {
   "cell_type": "code",
   "execution_count": null,
   "metadata": {
    "colab": {
     "base_uri": "https://localhost:8080/",
     "height": 34
    },
    "colab_type": "code",
    "id": "333fzTGL_Xla",
    "outputId": "4f15e792-6132-4bc6-f12c-f5a31d5ed2b1"
   },
   "outputs": [],
   "source": [
    "# Print the number of layers in the base model\n",
    "len(base_model.layers)"
   ]
  },
  {
   "cell_type": "code",
   "execution_count": null,
   "metadata": {
    "colab": {},
    "colab_type": "code",
    "id": "ySVdgNqU_g0V"
   },
   "outputs": [],
   "source": [
    "# Let's keep 100 of these layers frozen, and fine-tune the rest.\n",
    "for layer in base_model.layers[:100]:\n",
    "  layer.trainable =  False"
   ]
  },
  {
   "cell_type": "code",
   "execution_count": null,
   "metadata": {
    "colab": {},
    "colab_type": "code",
    "id": "_XX6eQsb_rLr"
   },
   "outputs": [],
   "source": [
    "# Prep the model for re-training. This time with a smaller learning rate.\n",
    "model.compile(loss=tf.keras.losses.BinaryCrossentropy(from_logits=True),\n",
    "              optimizer = tf.keras.optimizers.RMSprop(lr=learning_rate/10),\n",
    "              metrics=['accuracy'])"
   ]
  },
  {
   "cell_type": "markdown",
   "metadata": {
    "colab_type": "text",
    "id": "Xk2U-3H6__Fd"
   },
   "source": [
    "# Fine tune the model "
   ]
  },
  {
   "cell_type": "code",
   "execution_count": null,
   "metadata": {
    "colab": {
     "base_uri": "https://localhost:8080/",
     "height": 1000
    },
    "colab_type": "code",
    "id": "xSsbgXAZ_6i9",
    "outputId": "1cb7e3ad-bb46-424f-9d63-a6e08165b732"
   },
   "outputs": [],
   "source": [
    "ft_epochs =  epochs + 50\n",
    "history_ft = model.fit(train_dataset,\n",
    "                         epochs=ft_epochs,\n",
    "                         initial_epoch=history.epoch[-1],\n",
    "                         validation_data=validation_dataset)"
   ]
  },
  {
   "cell_type": "code",
   "execution_count": null,
   "metadata": {
    "colab": {
     "base_uri": "https://localhost:8080/",
     "height": 312
    },
    "colab_type": "code",
    "id": "onEOZKkdANOH",
    "outputId": "7891d100-c5b4-4bae-9612-6c1a5b03c3df"
   },
   "outputs": [],
   "source": [
    "# Plot the training loss for each epoch to see how the model converged.\n",
    "history_dict = history.history\n",
    "plt.plot(list(range(0,ft_epochs - epochs)), history_dict['loss'], 'bo--', label='Training loss')\n",
    "plt.title('Training loss')\n",
    "plt.xlabel('Epochs')\n",
    "plt.ylabel('Loss')\n",
    "plt.legend()"
   ]
  },
  {
   "cell_type": "markdown",
   "metadata": {
    "colab_type": "text",
    "id": "yUfJCkuqAaTQ"
   },
   "source": [
    "# Evaluate the fine-tuned model"
   ]
  },
  {
   "cell_type": "code",
   "execution_count": null,
   "metadata": {
    "colab": {
     "base_uri": "https://localhost:8080/",
     "height": 69
    },
    "colab_type": "code",
    "id": "ysTIr9aZAbuh",
    "outputId": "2ede6d7d-01d1-47c6-bf64-ea6581568de5"
   },
   "outputs": [],
   "source": [
    "# Evaluate the model on the test set. \n",
    "test_loss, test_acc = model.evaluate(test_dataset, \n",
    "          verbose=2)\n",
    "\n",
    "print('\\nTest accuracy:', test_acc)"
   ]
  },
  {
   "cell_type": "code",
   "execution_count": null,
   "metadata": {
    "colab": {},
    "colab_type": "code",
    "id": "f7_x4ZwgAn40"
   },
   "outputs": [],
   "source": []
  }
 ],
 "metadata": {
  "accelerator": "GPU",
  "colab": {
   "collapsed_sections": [],
   "name": "sota_example1.ipynb",
   "provenance": [],
   "toc_visible": true
  },
  "kernelspec": {
   "display_name": "Python 3",
   "name": "python3"
  }
 },
 "nbformat": 4,
 "nbformat_minor": 0
}
